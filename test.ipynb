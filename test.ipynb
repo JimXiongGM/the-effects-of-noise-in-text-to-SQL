{
 "cells": [
  {
   "cell_type": "code",
   "execution_count": 15,
   "metadata": {},
   "outputs": [],
   "source": [
    "from src.models.din_sql import *\n",
    "import tiktoken"
   ]
  },
  {
   "cell_type": "code",
   "execution_count": 16,
   "metadata": {},
   "outputs": [],
   "source": [
    "encoder = tiktoken.encoding_for_model(\"gpt-4o\")\n",
    "def get_tokens_len(text):\n",
    "    return len(encoder.encode(text))"
   ]
  },
  {
   "cell_type": "code",
   "execution_count": 18,
   "metadata": {},
   "outputs": [
    {
     "name": "stdout",
     "output_type": "stream",
     "text": [
      "fixed_len_slink: 3411\n",
      "fixed_len_q_cls: 4028\n",
      "fixed_len_easy: 3467\n",
      "fixed_len_non_nested: 2262\n",
      "fixed_len_nested: 3783\n",
      "ave_q_type: 3170.6666666666665\n",
      "fixed_len_self_c: 997\n"
     ]
    }
   ],
   "source": [
    "# linking\n",
    "fixed_len_slink = get_tokens_len(SYSTEM_SCHEMA_LINKING_TEMPLATE)\n",
    "fixed_len_q_cls = get_tokens_len(SYSTEM_CLASSIFICATION_TEMPLATE)\n",
    "fixed_len_easy = get_tokens_len(SYSTEM_EASY_CLASS_TEMPLATE)\n",
    "fixed_len_non_nested = get_tokens_len(SYSTEM_NON_NESTED_CLASS_TEMPLATE)\n",
    "fixed_len_nested = get_tokens_len(SYSTEM_NESTED_CLASS_TEMPLATE)\n",
    "fixed_len_self_c = get_tokens_len(SYSTEM_SELF_CORRECTION_PROMPT)\n",
    "\n",
    "ave_q_type = (fixed_len_easy + fixed_len_non_nested + fixed_len_nested) / 3\n",
    "\n",
    "print(f\"fixed_len_slink: {fixed_len_slink}\")\n",
    "print(f\"fixed_len_q_cls: {fixed_len_q_cls}\")\n",
    "print(f\"fixed_len_easy: {fixed_len_easy}\")\n",
    "print(f\"fixed_len_non_nested: {fixed_len_non_nested}\")\n",
    "print(f\"fixed_len_nested: {fixed_len_nested}\")\n",
    "print(f\"ave_q_type: {ave_q_type}\")\n",
    "print(f\"fixed_len_self_c: {fixed_len_self_c}\")"
   ]
  },
  {
   "cell_type": "code",
   "execution_count": 19,
   "metadata": {},
   "outputs": [
    {
     "data": {
      "text/plain": [
       "21622.66"
      ]
     },
     "execution_count": 19,
     "metadata": {},
     "output_type": "execute_result"
    }
   ],
   "source": [
    "bird\n",
    "\n",
    "fixed_len_slink: 3411\n",
    "fixed_len_q_cls: 4028\n",
    "fixed_len_easy: 3467\n",
    "fixed_len_non_nested: 2262\n",
    "fixed_len_nested: 3783\n",
    "ave_q_type: 3170.6666666666665\n",
    "fixed_len_self_c: 997\n",
    "\n",
    "bird-dev\n",
    "Average SQL Schema Length: 819.5814863102999\n",
    "Average Bird Table Info Length: 1685.0397653194264\n",
    "\n",
    "spider-dev\n",
    "307.27272727272725\n",
    "\n",
    "3411+4028+3170.66+997+(819+1685)*4"
   ]
  },
  {
   "cell_type": "code",
   "execution_count": 1,
   "metadata": {},
   "outputs": [
    {
     "data": {
      "text/plain": [
       "3324.202737940026"
      ]
     },
     "execution_count": 1,
     "metadata": {},
     "output_type": "execute_result"
    }
   ],
   "source": [
    "819.5814863102999 + 2504.6212516297264"
   ]
  },
  {
   "cell_type": "code",
   "execution_count": null,
   "metadata": {},
   "outputs": [],
   "source": []
  }
 ],
 "metadata": {
  "kernelspec": {
   "display_name": "base",
   "language": "python",
   "name": "python3"
  },
  "language_info": {
   "codemirror_mode": {
    "name": "ipython",
    "version": 3
   },
   "file_extension": ".py",
   "mimetype": "text/x-python",
   "name": "python",
   "nbconvert_exporter": "python",
   "pygments_lexer": "ipython3",
   "version": "3.11.5"
  }
 },
 "nbformat": 4,
 "nbformat_minor": 2
}
